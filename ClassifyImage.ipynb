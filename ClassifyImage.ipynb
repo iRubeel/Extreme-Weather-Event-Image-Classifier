{
 "cells": [
  {
   "cell_type": "code",
   "execution_count": 1,
   "id": "4713284c",
   "metadata": {},
   "outputs": [],
   "source": [
    "from tensorflow.keras.models import load_model\n",
    "import cv2\n",
    "import numpy as np\n",
    "import os"
   ]
  },
  {
   "cell_type": "code",
   "execution_count": 4,
   "id": "6199c9be",
   "metadata": {},
   "outputs": [],
   "source": [
    "saved_model_path = os.path.join(\"D:\\\\DeepLearningStuff\\\\ImageClassification\\\\models\", \"Classify_tornado_flood_snowstorm.h5\")\n",
    "loaded_model = load_model(saved_model_path)\n",
    "\n",
    "image_path = \"floodtest.jpg\"\n",
    "image = cv2.imread(image_path)\n",
    "\n",
    "resized_image = cv2.resize(image, (256, 256))\n",
    "normalized_image = resized_image / 255.0\n",
    "input_image = np.expand_dims(normalized_image, axis=0)\n"
   ]
  },
  {
   "cell_type": "code",
   "execution_count": 6,
   "id": "4c724ba8",
   "metadata": {},
   "outputs": [
    {
     "name": "stdout",
     "output_type": "stream",
     "text": [
      "1/1 [==============================] - 0s 56ms/step\n",
      "Predicted class is: Floods\n"
     ]
    }
   ],
   "source": [
    "class_names = ['Floods', 'Snowstorm', 'Tornado']\n",
    "\n",
    "predictions = loaded_model.predict(input_image)\n",
    "predicted_class_index = np.argmax(predictions)\n",
    "predicted_class = class_names[predicted_class_index]\n",
    "\n",
    "print(\"Predicted class is:\", predicted_class)"
   ]
  },
  {
   "cell_type": "code",
   "execution_count": null,
   "id": "fbf4099f",
   "metadata": {},
   "outputs": [],
   "source": []
  }
 ],
 "metadata": {
  "kernelspec": {
   "display_name": "Python 3 (ipykernel)",
   "language": "python",
   "name": "python3"
  },
  "language_info": {
   "codemirror_mode": {
    "name": "ipython",
    "version": 3
   },
   "file_extension": ".py",
   "mimetype": "text/x-python",
   "name": "python",
   "nbconvert_exporter": "python",
   "pygments_lexer": "ipython3",
   "version": "3.10.9"
  }
 },
 "nbformat": 4,
 "nbformat_minor": 5
}
